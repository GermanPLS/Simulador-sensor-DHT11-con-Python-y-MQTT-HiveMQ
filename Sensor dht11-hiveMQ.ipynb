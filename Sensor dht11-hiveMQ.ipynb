{
  "nbformat": 4,
  "nbformat_minor": 0,
  "metadata": {
    "colab": {
      "provenance": []
    },
    "kernelspec": {
      "name": "python3",
      "display_name": "Python 3"
    },
    "language_info": {
      "name": "python"
    }
  },
  "cells": [
    {
      "cell_type": "markdown",
      "source": [
        "# Simulador-sensor DHT11-con-Python-y-MQTT-HiveMQ"
      ],
      "metadata": {
        "id": "NPZdI4Hecimp"
      }
    },
    {
      "cell_type": "markdown",
      "source": [
        "🚀 Características\n",
        "\n",
        "Simula valores realistas de temperatura (°C) y humedad (%).\n",
        "\n",
        "Envía los datos a un broker MQTT público (HiveMQ).\n",
        "\n",
        "Permite visualizar los datos en tiempo real en un cliente MQTT.\n",
        "\n",
        "Código ligero y fácil de modificar."
      ],
      "metadata": {
        "id": "0nTFOdDddU32"
      }
    },
    {
      "cell_type": "code",
      "execution_count": 1,
      "metadata": {
        "colab": {
          "base_uri": "https://localhost:8080/"
        },
        "id": "80HHqTUtU33g",
        "outputId": "93c82ecd-ce63-42ce-ca86-461d5cbe8a88"
      },
      "outputs": [
        {
          "output_type": "stream",
          "name": "stdout",
          "text": [
            "Collecting paho-mqtt\n",
            "  Downloading paho_mqtt-2.1.0-py3-none-any.whl.metadata (23 kB)\n",
            "Downloading paho_mqtt-2.1.0-py3-none-any.whl (67 kB)\n",
            "\u001b[?25l   \u001b[90m━━━━━━━━━━━━━━━━━━━━━━━━━━━━━━━━━━━━━━━━\u001b[0m \u001b[32m0.0/67.2 kB\u001b[0m \u001b[31m?\u001b[0m eta \u001b[36m-:--:--\u001b[0m\r\u001b[2K   \u001b[90m━━━━━━━━━━━━━━━━━━━━━━━━━━━━━━━━━━━━━━━━\u001b[0m \u001b[32m67.2/67.2 kB\u001b[0m \u001b[31m3.4 MB/s\u001b[0m eta \u001b[36m0:00:00\u001b[0m\n",
            "\u001b[?25hInstalling collected packages: paho-mqtt\n",
            "Successfully installed paho-mqtt-2.1.0\n"
          ]
        }
      ],
      "source": [
        "pip install paho-mqtt\n"
      ]
    },
    {
      "cell_type": "code",
      "source": [
        "import paho.mqtt.client as mqtt  # importa la librería paho.mqtt.client, que es una implementación cliente del protocolo MQTT\n",
        "import random  # Este módulo proporciona funciones para generar números aleatorios\n",
        "import time  # Este módulo proporciona funciones relacionadas con el tiempo\n",
        "\n",
        "# Configuración del broker HiveMQ (Broker público)\n",
        "# Esos valores definen la configuración básica para conectarse a un broker MQTT y publicar datos en un tema (topic)\n",
        "\n",
        "BROKER = \"broker.hivemq.com\"\n",
        "PORT = 1883\n",
        "TOPIC = \"sensor/dht11\"  # Nombre del topic donde se publicarán los datos\n",
        "\n",
        "# Descripción de la configuración:\n",
        "# BROKER = \"broker.hivemq.com\":\n",
        "#    Este es el hostname o dirección del broker MQTT al que te vas a conectar.\n",
        "#    En este caso, broker.hivemq.com es un broker público que permite la conexión sin necesidad de autenticación,\n",
        "#    ideal para pruebas o demostraciones. Los brokers MQTT son servidores que facilitan la comunicación entre dispositivos\n",
        "#    al recibir y distribuir los mensajes de los temas (topics).\n",
        "\n",
        "# PORT = 1883:\n",
        "#    Este es el puerto del broker MQTT. El puerto 1883 es el puerto estándar para conexiones no cifradas (sin TLS/SSL) en MQTT.\n",
        "#    Es comúnmente utilizado para la mayoría de las comunicaciones MQTT sin necesidad de cifrado.\n",
        "#    Si estuvieras utilizando una conexión segura, el puerto generalmente sería el 8883.\n",
        "\n",
        "# Función para simular datos del DHT11\n",
        "def simular_dht11():\n",
        "    temperatura = round(random.uniform(5.0, 40.0), 1)  # Rango ajustado para temperaturas realistas\n",
        "    humedad = round(random.uniform(30.0, 70.0), 1)  # Rango ajustado para humedad realista\n",
        "    return temperatura, humedad\n",
        "\n",
        "# Crear cliente MQTT\n",
        "cliente = mqtt.Client()\n",
        "\n",
        "# Conectar al broker\n",
        "cliente.connect(BROKER, PORT, 60)\n",
        "\n",
        "print(f\"Conectado a HiveMQ Broker en {BROKER}:{PORT}\")\n",
        "\n",
        "# Publicar datos cada 2 segundos\n",
        "try:\n",
        "    while True:\n",
        "        temp, hum = simular_dht11()\n",
        "        mensaje = f'{{\"temperatura\": {temp}, \"humedad\": {hum}}}'\n",
        "\n",
        "        cliente.publish(TOPIC, mensaje)\n",
        "        print(f\"Enviado: {mensaje} al topic {TOPIC}\")\n",
        "\n",
        "        time.sleep(2)\n",
        "\n",
        "except KeyboardInterrupt:\n",
        "    print(\"Desconectando...\")\n",
        "    cliente.disconnect()\n"
      ],
      "metadata": {
        "colab": {
          "base_uri": "https://localhost:8080/"
        },
        "id": "5KSbBdksllA5",
        "outputId": "7bcf5590-c9c6-4a12-c310-fc06b6700b6a"
      },
      "execution_count": 4,
      "outputs": [
        {
          "output_type": "stream",
          "name": "stderr",
          "text": [
            "<ipython-input-4-1ad31a97bb93>:31: DeprecationWarning: Callback API version 1 is deprecated, update to latest version\n",
            "  cliente = mqtt.Client()\n"
          ]
        },
        {
          "output_type": "stream",
          "name": "stdout",
          "text": [
            "Conectado a HiveMQ Broker en broker.hivemq.com:1883\n",
            "Enviado: {\"temperatura\": 28.8, \"humedad\": 60.3} al topic sensor/dht11\n",
            "Enviado: {\"temperatura\": 18.0, \"humedad\": 32.9} al topic sensor/dht11\n",
            "Enviado: {\"temperatura\": 39.0, \"humedad\": 39.9} al topic sensor/dht11\n",
            "Enviado: {\"temperatura\": 37.9, \"humedad\": 38.4} al topic sensor/dht11\n",
            "Enviado: {\"temperatura\": 19.5, \"humedad\": 34.4} al topic sensor/dht11\n",
            "Enviado: {\"temperatura\": 23.9, \"humedad\": 66.4} al topic sensor/dht11\n",
            "Enviado: {\"temperatura\": 15.6, \"humedad\": 42.2} al topic sensor/dht11\n",
            "Enviado: {\"temperatura\": 12.2, \"humedad\": 41.1} al topic sensor/dht11\n",
            "Enviado: {\"temperatura\": 8.6, \"humedad\": 69.5} al topic sensor/dht11\n",
            "Enviado: {\"temperatura\": 14.4, \"humedad\": 59.8} al topic sensor/dht11\n",
            "Enviado: {\"temperatura\": 10.7, \"humedad\": 43.6} al topic sensor/dht11\n",
            "Enviado: {\"temperatura\": 23.8, \"humedad\": 39.6} al topic sensor/dht11\n",
            "Enviado: {\"temperatura\": 20.4, \"humedad\": 31.4} al topic sensor/dht11\n",
            "Enviado: {\"temperatura\": 18.5, \"humedad\": 36.2} al topic sensor/dht11\n",
            "Enviado: {\"temperatura\": 27.2, \"humedad\": 42.7} al topic sensor/dht11\n",
            "Enviado: {\"temperatura\": 35.6, \"humedad\": 36.9} al topic sensor/dht11\n",
            "Enviado: {\"temperatura\": 25.1, \"humedad\": 39.0} al topic sensor/dht11\n",
            "Enviado: {\"temperatura\": 31.7, \"humedad\": 50.1} al topic sensor/dht11\n",
            "Enviado: {\"temperatura\": 10.0, \"humedad\": 34.0} al topic sensor/dht11\n",
            "Enviado: {\"temperatura\": 21.0, \"humedad\": 52.6} al topic sensor/dht11\n",
            "Enviado: {\"temperatura\": 12.0, \"humedad\": 64.3} al topic sensor/dht11\n",
            "Enviado: {\"temperatura\": 17.3, \"humedad\": 47.7} al topic sensor/dht11\n",
            "Enviado: {\"temperatura\": 14.3, \"humedad\": 55.4} al topic sensor/dht11\n",
            "Enviado: {\"temperatura\": 28.7, \"humedad\": 58.1} al topic sensor/dht11\n",
            "Enviado: {\"temperatura\": 5.1, \"humedad\": 47.5} al topic sensor/dht11\n",
            "Enviado: {\"temperatura\": 8.4, \"humedad\": 33.6} al topic sensor/dht11\n",
            "Enviado: {\"temperatura\": 30.3, \"humedad\": 37.5} al topic sensor/dht11\n",
            "Enviado: {\"temperatura\": 37.9, \"humedad\": 46.9} al topic sensor/dht11\n",
            "Enviado: {\"temperatura\": 31.5, \"humedad\": 49.0} al topic sensor/dht11\n",
            "Enviado: {\"temperatura\": 24.8, \"humedad\": 52.4} al topic sensor/dht11\n",
            "Enviado: {\"temperatura\": 11.2, \"humedad\": 54.7} al topic sensor/dht11\n",
            "Enviado: {\"temperatura\": 11.1, \"humedad\": 51.3} al topic sensor/dht11\n",
            "Enviado: {\"temperatura\": 34.1, \"humedad\": 55.1} al topic sensor/dht11\n",
            "Enviado: {\"temperatura\": 37.8, \"humedad\": 36.8} al topic sensor/dht11\n",
            "Enviado: {\"temperatura\": 28.5, \"humedad\": 38.5} al topic sensor/dht11\n",
            "Enviado: {\"temperatura\": 14.0, \"humedad\": 35.8} al topic sensor/dht11\n",
            "Enviado: {\"temperatura\": 26.4, \"humedad\": 63.8} al topic sensor/dht11\n",
            "Enviado: {\"temperatura\": 35.8, \"humedad\": 49.3} al topic sensor/dht11\n",
            "Enviado: {\"temperatura\": 27.0, \"humedad\": 59.5} al topic sensor/dht11\n",
            "Enviado: {\"temperatura\": 16.7, \"humedad\": 30.3} al topic sensor/dht11\n",
            "Enviado: {\"temperatura\": 17.3, \"humedad\": 44.9} al topic sensor/dht11\n",
            "Enviado: {\"temperatura\": 38.9, \"humedad\": 36.1} al topic sensor/dht11\n",
            "Enviado: {\"temperatura\": 9.7, \"humedad\": 45.0} al topic sensor/dht11\n",
            "Enviado: {\"temperatura\": 32.1, \"humedad\": 56.9} al topic sensor/dht11\n",
            "Enviado: {\"temperatura\": 30.6, \"humedad\": 68.5} al topic sensor/dht11\n",
            "Enviado: {\"temperatura\": 22.4, \"humedad\": 54.8} al topic sensor/dht11\n",
            "Enviado: {\"temperatura\": 14.3, \"humedad\": 62.9} al topic sensor/dht11\n",
            "Enviado: {\"temperatura\": 27.6, \"humedad\": 66.6} al topic sensor/dht11\n",
            "Enviado: {\"temperatura\": 35.6, \"humedad\": 30.8} al topic sensor/dht11\n",
            "Enviado: {\"temperatura\": 18.2, \"humedad\": 66.5} al topic sensor/dht11\n",
            "Enviado: {\"temperatura\": 13.1, \"humedad\": 66.4} al topic sensor/dht11\n",
            "Enviado: {\"temperatura\": 29.9, \"humedad\": 37.4} al topic sensor/dht11\n",
            "Enviado: {\"temperatura\": 38.7, \"humedad\": 38.0} al topic sensor/dht11\n",
            "Enviado: {\"temperatura\": 30.3, \"humedad\": 62.3} al topic sensor/dht11\n",
            "Enviado: {\"temperatura\": 39.5, \"humedad\": 54.1} al topic sensor/dht11\n",
            "Enviado: {\"temperatura\": 15.2, \"humedad\": 60.1} al topic sensor/dht11\n",
            "Enviado: {\"temperatura\": 27.1, \"humedad\": 32.5} al topic sensor/dht11\n",
            "Enviado: {\"temperatura\": 14.9, \"humedad\": 51.3} al topic sensor/dht11\n",
            "Enviado: {\"temperatura\": 5.4, \"humedad\": 53.4} al topic sensor/dht11\n",
            "Enviado: {\"temperatura\": 29.5, \"humedad\": 56.8} al topic sensor/dht11\n",
            "Enviado: {\"temperatura\": 5.9, \"humedad\": 68.0} al topic sensor/dht11\n",
            "Enviado: {\"temperatura\": 6.6, \"humedad\": 55.4} al topic sensor/dht11\n",
            "Enviado: {\"temperatura\": 9.6, \"humedad\": 35.4} al topic sensor/dht11\n",
            "Enviado: {\"temperatura\": 35.4, \"humedad\": 57.7} al topic sensor/dht11\n",
            "Enviado: {\"temperatura\": 5.6, \"humedad\": 48.9} al topic sensor/dht11\n",
            "Enviado: {\"temperatura\": 18.1, \"humedad\": 44.8} al topic sensor/dht11\n",
            "Enviado: {\"temperatura\": 24.8, \"humedad\": 46.9} al topic sensor/dht11\n",
            "Enviado: {\"temperatura\": 6.6, \"humedad\": 36.0} al topic sensor/dht11\n",
            "Enviado: {\"temperatura\": 28.4, \"humedad\": 51.1} al topic sensor/dht11\n",
            "Enviado: {\"temperatura\": 37.7, \"humedad\": 68.3} al topic sensor/dht11\n",
            "Enviado: {\"temperatura\": 21.4, \"humedad\": 37.1} al topic sensor/dht11\n",
            "Enviado: {\"temperatura\": 26.6, \"humedad\": 47.9} al topic sensor/dht11\n",
            "Enviado: {\"temperatura\": 32.0, \"humedad\": 41.7} al topic sensor/dht11\n",
            "Enviado: {\"temperatura\": 7.9, \"humedad\": 43.2} al topic sensor/dht11\n",
            "Enviado: {\"temperatura\": 25.6, \"humedad\": 58.5} al topic sensor/dht11\n",
            "Enviado: {\"temperatura\": 29.5, \"humedad\": 48.3} al topic sensor/dht11\n",
            "Enviado: {\"temperatura\": 25.8, \"humedad\": 60.4} al topic sensor/dht11\n",
            "Enviado: {\"temperatura\": 39.1, \"humedad\": 63.7} al topic sensor/dht11\n",
            "Enviado: {\"temperatura\": 20.4, \"humedad\": 56.4} al topic sensor/dht11\n",
            "Enviado: {\"temperatura\": 29.9, \"humedad\": 50.0} al topic sensor/dht11\n",
            "Enviado: {\"temperatura\": 22.2, \"humedad\": 51.5} al topic sensor/dht11\n",
            "Enviado: {\"temperatura\": 33.5, \"humedad\": 65.7} al topic sensor/dht11\n",
            "Enviado: {\"temperatura\": 21.6, \"humedad\": 67.6} al topic sensor/dht11\n",
            "Enviado: {\"temperatura\": 38.6, \"humedad\": 60.5} al topic sensor/dht11\n",
            "Enviado: {\"temperatura\": 12.7, \"humedad\": 49.3} al topic sensor/dht11\n",
            "Enviado: {\"temperatura\": 9.8, \"humedad\": 33.2} al topic sensor/dht11\n",
            "Enviado: {\"temperatura\": 39.2, \"humedad\": 61.0} al topic sensor/dht11\n",
            "Enviado: {\"temperatura\": 9.8, \"humedad\": 67.7} al topic sensor/dht11\n",
            "Enviado: {\"temperatura\": 19.5, \"humedad\": 48.0} al topic sensor/dht11\n",
            "Enviado: {\"temperatura\": 28.7, \"humedad\": 55.0} al topic sensor/dht11\n",
            "Enviado: {\"temperatura\": 35.0, \"humedad\": 39.1} al topic sensor/dht11\n",
            "Enviado: {\"temperatura\": 35.0, \"humedad\": 58.3} al topic sensor/dht11\n",
            "Enviado: {\"temperatura\": 27.4, \"humedad\": 66.7} al topic sensor/dht11\n",
            "Enviado: {\"temperatura\": 37.9, \"humedad\": 58.8} al topic sensor/dht11\n",
            "Enviado: {\"temperatura\": 13.5, \"humedad\": 46.7} al topic sensor/dht11\n",
            "Enviado: {\"temperatura\": 37.6, \"humedad\": 46.8} al topic sensor/dht11\n",
            "Enviado: {\"temperatura\": 22.8, \"humedad\": 50.5} al topic sensor/dht11\n",
            "Enviado: {\"temperatura\": 37.1, \"humedad\": 30.2} al topic sensor/dht11\n",
            "Enviado: {\"temperatura\": 9.1, \"humedad\": 53.3} al topic sensor/dht11\n",
            "Enviado: {\"temperatura\": 30.1, \"humedad\": 55.0} al topic sensor/dht11\n",
            "Enviado: {\"temperatura\": 11.0, \"humedad\": 42.8} al topic sensor/dht11\n",
            "Enviado: {\"temperatura\": 16.8, \"humedad\": 45.3} al topic sensor/dht11\n",
            "Enviado: {\"temperatura\": 36.2, \"humedad\": 67.8} al topic sensor/dht11\n",
            "Enviado: {\"temperatura\": 35.0, \"humedad\": 58.7} al topic sensor/dht11\n",
            "Enviado: {\"temperatura\": 18.4, \"humedad\": 62.8} al topic sensor/dht11\n",
            "Enviado: {\"temperatura\": 7.5, \"humedad\": 31.5} al topic sensor/dht11\n",
            "Enviado: {\"temperatura\": 23.5, \"humedad\": 55.1} al topic sensor/dht11\n",
            "Enviado: {\"temperatura\": 12.9, \"humedad\": 64.7} al topic sensor/dht11\n",
            "Enviado: {\"temperatura\": 26.7, \"humedad\": 38.9} al topic sensor/dht11\n",
            "Enviado: {\"temperatura\": 14.1, \"humedad\": 67.8} al topic sensor/dht11\n",
            "Enviado: {\"temperatura\": 16.4, \"humedad\": 53.9} al topic sensor/dht11\n",
            "Enviado: {\"temperatura\": 15.4, \"humedad\": 60.4} al topic sensor/dht11\n",
            "Enviado: {\"temperatura\": 6.7, \"humedad\": 53.5} al topic sensor/dht11\n",
            "Enviado: {\"temperatura\": 11.6, \"humedad\": 41.2} al topic sensor/dht11\n",
            "Enviado: {\"temperatura\": 26.7, \"humedad\": 52.6} al topic sensor/dht11\n",
            "Enviado: {\"temperatura\": 13.2, \"humedad\": 40.8} al topic sensor/dht11\n",
            "Enviado: {\"temperatura\": 30.8, \"humedad\": 68.5} al topic sensor/dht11\n",
            "Enviado: {\"temperatura\": 13.6, \"humedad\": 31.6} al topic sensor/dht11\n",
            "Enviado: {\"temperatura\": 37.8, \"humedad\": 64.0} al topic sensor/dht11\n",
            "Enviado: {\"temperatura\": 11.6, \"humedad\": 57.4} al topic sensor/dht11\n",
            "Enviado: {\"temperatura\": 16.1, \"humedad\": 33.7} al topic sensor/dht11\n",
            "Enviado: {\"temperatura\": 35.8, \"humedad\": 61.1} al topic sensor/dht11\n",
            "Enviado: {\"temperatura\": 39.9, \"humedad\": 41.5} al topic sensor/dht11\n",
            "Enviado: {\"temperatura\": 39.0, \"humedad\": 69.2} al topic sensor/dht11\n",
            "Enviado: {\"temperatura\": 25.8, \"humedad\": 69.7} al topic sensor/dht11\n",
            "Enviado: {\"temperatura\": 38.2, \"humedad\": 30.4} al topic sensor/dht11\n",
            "Enviado: {\"temperatura\": 9.1, \"humedad\": 33.7} al topic sensor/dht11\n",
            "Enviado: {\"temperatura\": 39.5, \"humedad\": 38.7} al topic sensor/dht11\n",
            "Enviado: {\"temperatura\": 39.3, \"humedad\": 62.4} al topic sensor/dht11\n",
            "Enviado: {\"temperatura\": 14.7, \"humedad\": 60.9} al topic sensor/dht11\n",
            "Enviado: {\"temperatura\": 6.1, \"humedad\": 62.6} al topic sensor/dht11\n",
            "Enviado: {\"temperatura\": 5.8, \"humedad\": 46.9} al topic sensor/dht11\n",
            "Enviado: {\"temperatura\": 15.6, \"humedad\": 33.2} al topic sensor/dht11\n",
            "Enviado: {\"temperatura\": 9.9, \"humedad\": 37.5} al topic sensor/dht11\n",
            "Desconectando...\n"
          ]
        }
      ]
    }
  ]
}